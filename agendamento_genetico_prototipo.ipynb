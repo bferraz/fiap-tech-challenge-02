{
 "cells": [
  {
   "cell_type": "markdown",
   "id": "986694fe",
   "metadata": {},
   "source": [
    "# Agendamento Inteligente com Algoritmo Genético\n",
    "\n",
    "Protótipo para otimização de agendamentos em salões de beleza, clínicas e serviços baseados em horários.\n",
    "\n",
    "## Objetivos\n",
    "- Maximizar a ocupação dos profissionais.\n",
    "- Minimizar horários ociosos e buracos na agenda.\n",
    "- Sugerir melhores encaixes para novos clientes.\n",
    "- Considerar restrições de horários, serviços, disponibilidade e preferências.\n",
    "- Prototipação em Python/Jupyter Notebook."
   ]
  },
  {
   "cell_type": "markdown",
   "id": "d0211c53",
   "metadata": {},
   "source": [
    "## 1. Modelagem dos Dados\n",
    "\n",
    "Definição das principais entidades do sistema:\n",
    "- **Profissional**: nome, serviços oferecidos, horários disponíveis.\n",
    "- **Serviço**: nome, duração, requisitos.\n",
    "- **Cliente**: nome, preferências de horário/serviço.\n",
    "- **Agendamento**: profissional, serviço, cliente, horário."
   ]
  },
  {
   "cell_type": "code",
   "execution_count": 1,
   "id": "c046c9d5",
   "metadata": {},
   "outputs": [],
   "source": [
    "# Exemplo de modelagem de dados usando Python (dicionários e listas)\n",
    "profissionais = [\n",
    "    {\"id\": 1, \"nome\": \"Ana\", \"servicos\": [1, 2], \"horarios\": [\"09:00\", \"10:00\", \"11:00\", \"14:00\"]},\n",
    "    {\"id\": 2, \"nome\": \"Carlos\", \"servicos\": [2, 3], \"horarios\": [\"10:00\", \"11:00\", \"15:00\"]}\n",
    "]\n",
    "\n",
    "servicos = [\n",
    "    {\"id\": 1, \"nome\": \"Corte de Cabelo\", \"duracao\": 60},\n",
    "    {\"id\": 2, \"nome\": \"Manicure\", \"duracao\": 45},\n",
    "    {\"id\": 3, \"nome\": \"Massagem\", \"duracao\": 90}\n",
    "]\n",
    "\n",
    "clientes = [\n",
    "    {\"id\": 1, \"nome\": \"João\", \"preferencias\": {\"servico\": 1, \"horario\": \"09:00\"}},\n",
    "    {\"id\": 2, \"nome\": \"Maria\", \"preferencias\": {\"servico\": 2, \"horario\": \"10:00\"}}\n",
    "]\n",
    "\n",
    "agendamentos = []  # Lista de agendamentos realizados"
   ]
  },
  {
   "cell_type": "markdown",
   "id": "b9788bb7",
   "metadata": {},
   "source": [
    "## 2. Restrições e Preferências\n",
    "\n",
    "- Horários de trabalho dos profissionais.\n",
    "- Duração dos serviços.\n",
    "- Disponibilidade dos profissionais.\n",
    "- Preferências dos clientes (horário, profissional, serviço).\n",
    "- Evitar sobreposição de agendamentos."
   ]
  },
  {
   "cell_type": "markdown",
   "id": "b02cd606",
   "metadata": {},
   "source": [
    "## 3. Esboço da Função de Fitness\n",
    "\n",
    "A função de fitness será responsável por avaliar a qualidade de uma solução de agendamento.\n",
    "\n",
    "**Critérios sugeridos:**\n",
    "- Ocupação máxima dos profissionais.\n",
    "- Menor quantidade de horários ociosos.\n",
    "- Atendimento às preferências dos clientes.\n",
    "- Respeito às restrições de horários e serviços.\n",
    "\n",
    "Abaixo, um esboço da função de fitness (ainda sem implementação do algoritmo genético):"
   ]
  },
  {
   "cell_type": "code",
   "execution_count": null,
   "id": "bbe00db8",
   "metadata": {},
   "outputs": [],
   "source": [
    "def calcular_fitness(agendamentos, profissionais, clientes):\n",
    "    '''\n",
    "    Avalia a qualidade de uma solução de agendamento.\n",
    "    Critérios: ocupação, ociosidade, preferências, restrições.\n",
    "    '''\n",
    "    fitness = 0\n",
    "    # Exemplo de critérios (a serem detalhados):\n",
    "    # - +1 ponto para cada agendamento realizado\n",
    "    # - -1 ponto para cada horário ocioso\n",
    "    # - +2 pontos se atender preferência do cliente\n",
    "    # - Penalidade para sobreposição ou violação de restrições\n",
    "    return fitness"
   ]
  },
  {
   "cell_type": "markdown",
   "id": "051682d5",
   "metadata": {},
   "source": [
    "## 4. Próximos Passos\n",
    "\n",
    "- Refinar a modelagem dos dados conforme necessidades do negócio.\n",
    "- Detalhar e implementar a função de fitness.\n",
    "- Gerar exemplos de agendamentos para teste.\n",
    "- Futuramente: implementar o algoritmo genético e expor via API."
   ]
  },
  {
   "cell_type": "code",
   "execution_count": 2,
   "id": "cdb7047b",
   "metadata": {},
   "outputs": [],
   "source": [
    "# Exemplos de agendamentos fictícios\n",
    "# Cada agendamento: profissional, serviço, cliente, horário\n",
    "agendamentos_exemplo = [\n",
    "    # Bom encaixe: Ana faz corte para João no horário preferido\n",
    "    {\"profissional\": 1, \"servico\": 1, \"cliente\": 1, \"horario\": \"09:00\"},\n",
    "    # Bom encaixe: Carlos faz manicure para Maria no horário preferido\n",
    "    {\"profissional\": 2, \"servico\": 2, \"cliente\": 2, \"horario\": \"10:00\"},\n",
    "    # Problema: Ana agendada para dois clientes no mesmo horário (conflito)\n",
    "    {\"profissional\": 1, \"servico\": 2, \"cliente\": 2, \"horario\": \"09:00\"},\n",
    "    # Problema: Carlos agendado para serviço que não oferece\n",
    "    {\"profissional\": 2, \"servico\": 1, \"cliente\": 1, \"horario\": \"11:00\"},\n",
    "    # Horário ocioso: Ana tem horário livre às 14:00\n",
    "]"
   ]
  },
  {
   "cell_type": "code",
   "execution_count": 3,
   "id": "7c86a420",
   "metadata": {},
   "outputs": [
    {
     "name": "stdout",
     "output_type": "stream",
     "text": [
      "Agendamento 1: Profissional 1, Serviço 1, Cliente 1, Horário 09:00\n",
      "  -> Bom encaixe: Ana faz corte para João no horário preferido.\n",
      "Agendamento 2: Profissional 2, Serviço 2, Cliente 2, Horário 10:00\n",
      "  -> Bom encaixe: Carlos faz manicure para Maria no horário preferido.\n",
      "Agendamento 3: Profissional 1, Serviço 2, Cliente 2, Horário 09:00\n",
      "  -> Problema: Ana agendada para dois clientes no mesmo horário (conflito).\n",
      "Agendamento 4: Profissional 2, Serviço 1, Cliente 1, Horário 11:00\n",
      "  -> Problema: Carlos agendado para serviço que não oferece.\n"
     ]
    }
   ],
   "source": [
    "# Visualizar e explicar os exemplos de agendamentos\n",
    "for i, ag in enumerate(agendamentos_exemplo, 1):\n",
    "    print(f\"Agendamento {i}: Profissional {ag['profissional']}, Serviço {ag['servico']}, Cliente {ag['cliente']}, Horário {ag['horario']}\")\n",
    "    if i == 1:\n",
    "        print(\"  -> Bom encaixe: Ana faz corte para João no horário preferido.\")\n",
    "    elif i == 2:\n",
    "        print(\"  -> Bom encaixe: Carlos faz manicure para Maria no horário preferido.\")\n",
    "    elif i == 3:\n",
    "        print(\"  -> Problema: Ana agendada para dois clientes no mesmo horário (conflito).\")\n",
    "    elif i == 4:\n",
    "        print(\"  -> Problema: Carlos agendado para serviço que não oferece.\")\n",
    "    elif i == 5:\n",
    "        print(\"  -> Horário ocioso: Ana tem horário livre às 14:00.\")"
   ]
  },
  {
   "cell_type": "code",
   "execution_count": null,
   "id": "7a33f668",
   "metadata": {},
   "outputs": [],
   "source": []
  },
  {
   "cell_type": "markdown",
   "id": "ae38e7e2",
   "metadata": {},
   "source": [
    "## 5. Avaliando os exemplos com a função de fitness\n",
    "\n",
    "Agora vamos usar a função de fitness para avaliar os exemplos de agendamento criados. O objetivo é entender, na prática, como cada critério influencia a pontuação final e como identificar pontos de melhoria na agenda."
   ]
  },
  {
   "cell_type": "code",
   "execution_count": null,
   "id": "32946177",
   "metadata": {},
   "outputs": [],
   "source": [
    "# Avaliar os exemplos de agendamento usando a função de fitness\n",
    "pontuacao = calcular_fitness(agendamentos_exemplo, profissionais, clientes)\n",
    "print(f\"Pontuação da agenda (fitness): {pontuacao}\")\n",
    "\n",
    "# Lembre-se: a função de fitness ainda é um esboço e pode ser detalhada para refletir melhor os critérios do negócio."
   ]
  },
  {
   "cell_type": "markdown",
   "id": "b3be55f7",
   "metadata": {},
   "source": [
    "### 6. Detalhando a função de fitness: Pontos por agendamento realizado\n",
    "\n",
    "Vamos começar a detalhar a função de fitness. O primeiro critério será simples: cada agendamento realizado soma 1 ponto na pontuação final. Assim, quanto mais agendamentos válidos, maior a pontuação."
   ]
  },
  {
   "cell_type": "code",
   "execution_count": 4,
   "id": "cc2885a7",
   "metadata": {},
   "outputs": [
    {
     "name": "stdout",
     "output_type": "stream",
     "text": [
      "Pontuação (apenas quantidade de agendamentos): 4\n"
     ]
    }
   ],
   "source": [
    "def calcular_fitness_simples(agendamentos, profissionais, clientes):\n",
    "    \"\"\"\n",
    "    Função de fitness simples: soma 1 ponto para cada agendamento realizado.\n",
    "    \"\"\"\n",
    "    return len(agendamentos)\n",
    "\n",
    "# Testar a nova função de fitness simples\n",
    "pontuacao_simples = calcular_fitness_simples(agendamentos_exemplo, profissionais, clientes)\n",
    "print(f\"Pontuação (apenas quantidade de agendamentos): {pontuacao_simples}\")"
   ]
  },
  {
   "cell_type": "markdown",
   "id": "24e50497",
   "metadata": {},
   "source": [
    "Vamos detalhar a função de fitness passo a passo. O primeiro critério é simples: cada agendamento realizado soma 1 ponto na pontuação final. Assim, quanto mais agendamentos, maior a pontuação."
   ]
  },
  {
   "cell_type": "code",
   "execution_count": 10,
   "id": "d4601024",
   "metadata": {},
   "outputs": [
    {
     "name": "stdout",
     "output_type": "stream",
     "text": [
      "Pontuação final (fitness completa): -12\n"
     ]
    }
   ],
   "source": [
    "def calcular_fitness_completo(agendamentos, profissionais, clientes):\n",
    "    \"\"\"\n",
    "    Função de fitness completa para avaliação de agendamentos.\n",
    "    Critérios:\n",
    "    +1 ponto para cada agendamento realizado\n",
    "    -2 pontos para cada conflito de horário (profissional duplamente agendado)\n",
    "    -2 pontos para cada serviço não oferecido pelo profissional\n",
    "    +2 pontos se o agendamento atender a preferência de horário do cliente\n",
    "    -1 ponto para cada horário ocioso (profissional disponível sem agendamento)\n",
    "    \"\"\"\n",
    "    fitness = 0\n",
    "    conflitos = 0\n",
    "    servico_invalido = 0\n",
    "    preferencias_atendidas = 0\n",
    "    horarios_ociosos = 0\n",
    "    \n",
    "    # Mapear horários ocupados por profissional\n",
    "    horarios_prof = {p['id']: set() for p in profissionais}\n",
    "    horarios_disponiveis = {p['id']: set(p['horarios']) for p in profissionais}\n",
    "    \n",
    "    for ag in agendamentos:\n",
    "        fitness += 1  # ponto por agendamento\n",
    "        prof = next((p for p in profissionais if p['id'] == ag['profissional']), None)\n",
    "        cli = next((c for c in clientes if c['id'] == ag['cliente']), None)\n",
    "        if prof is None or cli is None:\n",
    "            continue\n",
    "        # Conflito de horário\n",
    "        if ag['horario'] in horarios_prof[prof['id']]:\n",
    "            fitness -= 2\n",
    "            conflitos += 1\n",
    "        else:\n",
    "            horarios_prof[prof['id']].add(ag['horario'])\n",
    "        # Serviço não oferecido\n",
    "        if ag['servico'] not in prof['servicos']:\n",
    "            fitness -= 2\n",
    "            servico_invalido += 1\n",
    "        # Preferência atendida\n",
    "        if cli['preferencias']['servico'] == ag['servico'] and cli['preferencias']['horario'] == ag['horario']:\n",
    "            fitness += 2\n",
    "            preferencias_atendidas += 1\n",
    "        # Remover horário agendado dos disponíveis\n",
    "        if ag['horario'] in horarios_disponiveis[prof['id']]:\n",
    "            horarios_disponiveis[prof['id']].remove(ag['horario'])\n",
    "    # Penalizar horários ociosos\n",
    "    for prof_id, livres in horarios_disponiveis.items():\n",
    "        horarios_ociosos += len(livres)\n",
    "        fitness -= len(livres)\n",
    "    # print(f\"Conflitos de horário: {conflitos}\")\n",
    "    # print(f\"Serviços não oferecidos: {servico_invalido}\")\n",
    "    # print(f\"Preferências atendidas: {preferencias_atendidas}\")\n",
    "    # print(f\"Horários ociosos: {horarios_ociosos}\")\n",
    "    return fitness\n",
    "\n",
    "# Testar a função de fitness completa\n",
    "pontuacao_completa = calcular_fitness_completo(agendamentos_exemplo, profissionais, clientes)\n",
    "print(f\"Pontuação final (fitness completa): {pontuacao_completa}\")"
   ]
  },
  {
   "cell_type": "code",
   "execution_count": null,
   "id": "254f664f",
   "metadata": {},
   "outputs": [],
   "source": []
  },
  {
   "cell_type": "markdown",
   "id": "d81e40fc",
   "metadata": {},
   "source": [
    "## 7. Prototipando o Algoritmo Genético\n",
    "\n",
    "Agora vamos criar uma massa maior de dados (mais clientes e preferências) e implementar um exemplo simples de algoritmo genético para buscar melhores agendas. O objetivo é mostrar o funcionamento básico: geração de populações, avaliação, seleção, cruzamento e mutação."
   ]
  },
  {
   "cell_type": "code",
   "execution_count": 15,
   "id": "6c2eda0e",
   "metadata": {},
   "outputs": [],
   "source": [
    "# Massa maior de dados para o algoritmo genético\n",
    "import random\n",
    "\n",
    "profissionais = [\n",
    "    {\"id\": 1, \"nome\": \"Ana\", \"servicos\": [1, 2], \"horarios\": [\"09:00\", \"10:00\", \"11:00\", \"14:00\", \"15:00\"]},\n",
    "    {\"id\": 2, \"nome\": \"Carlos\", \"servicos\": [2, 3], \"horarios\": [\"09:00\", \"10:00\", \"11:00\", \"14:00\", \"15:00\"]},\n",
    "    {\"id\": 3, \"nome\": \"Beatriz\", \"servicos\": [1, 3], \"horarios\": [\"09:00\", \"10:00\", \"11:00\", \"14:00\", \"15:00\"]}\n",
    "]\n",
    "\n",
    "servicos = [\n",
    "    {\"id\": 1, \"nome\": \"Corte de Cabelo\", \"duracao\": 60},\n",
    "    {\"id\": 2, \"nome\": \"Manicure\", \"duracao\": 45},\n",
    "    {\"id\": 3, \"nome\": \"Massagem\", \"duracao\": 90}\n",
    "]\n",
    "\n",
    "# Gerar 10 clientes fictícios com preferências aleatórias\n",
    "horarios_possiveis = [\"09:00\", \"10:00\", \"11:00\", \"14:00\", \"15:00\"]\n",
    "clientes = []\n",
    "for i in range(1, 11):\n",
    "    servico_pref = random.choice(servicos)[\"id\"]\n",
    "    horario_pref = random.choice(horarios_possiveis)\n",
    "    clientes.append({\n",
    "        \"id\": i,\n",
    "        \"nome\": f\"Cliente {i}\",\n",
    "        \"preferencias\": {\"servico\": servico_pref, \"horario\": horario_pref}\n",
    "    })"
   ]
  },
  {
   "cell_type": "code",
   "execution_count": 16,
   "id": "2aae2e2f",
   "metadata": {},
   "outputs": [
    {
     "name": "stdout",
     "output_type": "stream",
     "text": [
      "\n",
      "Melhor agenda encontrada:\n",
      "{'profissional': 2, 'servico': 2, 'cliente': 1, 'horario': '10:00'}\n",
      "{'profissional': 1, 'servico': 2, 'cliente': 2, 'horario': '15:00'}\n",
      "{'profissional': 3, 'servico': 1, 'cliente': 3, 'horario': '15:00'}\n",
      "{'profissional': 1, 'servico': 1, 'cliente': 4, 'horario': '15:00'}\n",
      "{'profissional': 1, 'servico': 1, 'cliente': 5, 'horario': '14:00'}\n",
      "{'profissional': 1, 'servico': 2, 'cliente': 6, 'horario': '14:00'}\n",
      "{'profissional': 3, 'servico': 1, 'cliente': 7, 'horario': '09:00'}\n",
      "{'profissional': 2, 'servico': 2, 'cliente': 8, 'horario': '11:00'}\n",
      "{'profissional': 3, 'servico': 3, 'cliente': 9, 'horario': '11:00'}\n",
      "{'profissional': 2, 'servico': 3, 'cliente': 10, 'horario': '15:00'}\n"
     ]
    }
   ],
   "source": [
    "# Algoritmo Genético otimizado para agendamentos com crossover robusto e registro da evolução do fitness\n",
    "POP_SIZE = 20\n",
    "N_GERACOES = 30\n",
    "TAXA_MUTACAO = 0.2\n",
    "\n",
    "def crossover_unico_por_cliente(pai1, pai2):\n",
    "    filho = []\n",
    "    for ag1 in pai1:\n",
    "        cliente_id = ag1['cliente']\n",
    "        ag2 = next((a for a in pai2 if a['cliente'] == cliente_id), ag1)\n",
    "        filho.append(ag1 if random.random() < 0.5 else ag2)\n",
    "    return filho\n",
    "\n",
    "def gerar_individuo():\n",
    "    individuo = []\n",
    "    for cliente in clientes:\n",
    "        prof = random.choice(profissionais)\n",
    "        if cliente['preferencias']['servico'] in prof['servicos']:\n",
    "            servico = cliente['preferencias']['servico']\n",
    "        else:\n",
    "            servico = random.choice(prof['servicos'])\n",
    "        horario = random.choice(prof['horarios'])\n",
    "        individuo.append({\n",
    "            \"profissional\": prof['id'],\n",
    "            \"servico\": servico,\n",
    "            \"cliente\": cliente['id'],\n",
    "            \"horario\": horario\n",
    "        })\n",
    "    return individuo\n",
    "\n",
    "def mutacao(individuo):\n",
    "    novo = []\n",
    "    for ag in individuo:\n",
    "        if random.random() < TAXA_MUTACAO:\n",
    "            prof = random.choice(profissionais)\n",
    "            servico = random.choice(prof['servicos'])\n",
    "            horario = random.choice(prof['horarios'])\n",
    "            novo.append({\"profissional\": prof['id'], \"servico\": servico, \"cliente\": ag['cliente'], \"horario\": horario})\n",
    "        else:\n",
    "            novo.append(ag)\n",
    "    return novo\n",
    "\n",
    "# Inicializar população\n",
    "populacao = [gerar_individuo() for _ in range(POP_SIZE)]\n",
    "evolucao_fitness = []\n",
    "\n",
    "for geracao in range(N_GERACOES):\n",
    "    fitness_pop = [calcular_fitness_completo(ind, profissionais, clientes) for ind in populacao]\n",
    "    selecionados = [populacao[i] for i in sorted(range(len(fitness_pop)), key=lambda k: fitness_pop[k], reverse=True)[:POP_SIZE//2]]\n",
    "    nova_pop = []\n",
    "    while len(nova_pop) < POP_SIZE:\n",
    "        pais = random.sample(selecionados, 2)\n",
    "        filho = crossover_unico_por_cliente(pais[0], pais[1])\n",
    "        filho = mutacao(filho)\n",
    "        nova_pop.append(filho)\n",
    "    populacao = nova_pop\n",
    "    melhor_fitness = max(fitness_pop)\n",
    "    evolucao_fitness.append(melhor_fitness)\n",
    "    # print(f\"Geração {geracao+1}: Melhor fitness = {melhor_fitness}\")\n",
    "\n",
    "# Exibir melhor solução encontrada\n",
    "fitness_final = [calcular_fitness_completo(ind, profissionais, clientes) for ind in populacao]\n",
    "melhor_idx = fitness_final.index(max(fitness_final))\n",
    "melhor_agenda = populacao[melhor_idx]\n",
    "print(\"\\nMelhor agenda encontrada:\")\n",
    "for ag in melhor_agenda:\n",
    "    print(ag)"
   ]
  },
  {
   "cell_type": "code",
   "execution_count": 17,
   "id": "aebc0aea",
   "metadata": {},
   "outputs": [
    {
     "data": {
      "image/png": "[encoded data removed]",
      "text/plain": [
       "<Figure size 1000x500 with 1 Axes>"
      ]
     },
     "metadata": {},
     "output_type": "display_data"
    }
   ],
   "source": [
    "# Visualização da evolução do fitness ao longo das gerações\n",
    "import matplotlib.pyplot as plt\n",
    "\n",
    "plt.figure(figsize=(10,5))\n",
    "plt.plot(range(1, N_GERACOES+1), evolucao_fitness, marker='o')\n",
    "plt.title('Evolução do Melhor Fitness por Geração')\n",
    "plt.xlabel('Geração')\n",
    "plt.ylabel('Melhor Fitness')\n",
    "plt.grid(True)\n",
    "plt.show()"
   ]
  },
  {
   "cell_type": "code",
   "execution_count": null,
   "id": "e9f9da2f",
   "metadata": {},
   "outputs": [],
   "source": []
  },
  {
   "cell_type": "markdown",
   "id": "44394e89",
   "metadata": {},
   "source": [
    "### O que é um gene e como funciona o crossover neste contexto?\n",
    "\n",
    "- **Gene:** No nosso caso, cada \"gene\" é um agendamento individual (um dicionário com profissional, serviço, cliente e horário).\n",
    "- **Indivíduo:** Uma agenda completa, ou seja, uma lista de agendamentos (um para cada cliente).\n",
    "- **Crossover:** Ao gerar um filho, pegamos parte dos agendamentos do pai1 e o restante do pai2. Por exemplo, se temos 10 clientes e o ponto de corte é 4, o filho terá os 4 primeiros agendamentos do pai1 e os 6 últimos do pai2.\n",
    "\n",
    "#### Exemplo prático:\n",
    "\n",
    "- **Pai 1:**\n",
    "  - Cliente 1: Profissional 1, Serviço 1, Horário 09:00\n",
    "  - Cliente 2: Profissional 2, Serviço 2, Horário 10:00\n",
    "  - Cliente 3: Profissional 1, Serviço 2, Horário 11:00\n",
    "  - Cliente 4: Profissional 3, Serviço 3, Horário 14:00\n",
    "  - ...\n",
    "- **Pai 2:**\n",
    "  - Cliente 1: Profissional 2, Serviço 2, Horário 09:00\n",
    "  - Cliente 2: Profissional 1, Serviço 1, Horário 10:00\n",
    "  - Cliente 3: Profissional 3, Serviço 3, Horário 11:00\n",
    "  - Cliente 4: Profissional 2, Serviço 2, Horário 14:00\n",
    "  - ...\n",
    "- **Ponto de corte:** 2\n",
    "- **Filho gerado:**\n",
    "  - Cliente 1: (do Pai 1)\n",
    "  - Cliente 2: (do Pai 1)\n",
    "  - Cliente 3: (do Pai 2)\n",
    "  - Cliente 4: (do Pai 2)\n",
    "  - ...\n",
    "\n",
    "Assim, o filho mistura agendamentos dos dois pais, podendo herdar boas características de ambos."
   ]
  },
  {
   "cell_type": "code",
   "execution_count": null,
   "id": "1e2f0a56",
   "metadata": {},
   "outputs": [],
   "source": [
    "# Exemplo prático de crossover entre dois indivíduos (agendas)\n",
    "exemplo_pai1 = [\n",
    "    {\"profissional\": 1, \"servico\": 1, \"cliente\": 1, \"horario\": \"09:00\"},\n",
    "    {\"profissional\": 2, \"servico\": 2, \"cliente\": 2, \"horario\": \"10:00\"},\n",
    "    {\"profissional\": 1, \"servico\": 2, \"cliente\": 3, \"horario\": \"11:00\"},\n",
    "    {\"profissional\": 3, \"servico\": 3, \"cliente\": 4, \"horario\": \"14:00\"}\n",
    "]\n",
    "exemplo_pai2 = [\n",
    "    {\"profissional\": 2, \"servico\": 2, \"cliente\": 1, \"horario\": \"09:00\"},\n",
    "    {\"profissional\": 1, \"servico\": 1, \"cliente\": 2, \"horario\": \"10:00\"},\n",
    "    {\"profissional\": 3, \"servico\": 3, \"cliente\": 3, \"horario\": \"11:00\"},\n",
    "    {\"profissional\": 2, \"servico\": 2, \"cliente\": 4, \"horario\": \"14:00\"}\n",
    "]\n",
    "\n",
    "ponto_corte = 2\n",
    "filho = exemplo_pai1[:ponto_corte] + exemplo_pai2[ponto_corte:]\n",
    "\n",
    "print(\"Pai 1:\")\n",
    "for ag in exemplo_pai1:\n",
    "    print(ag)\n",
    "print(\"\\nPai 2:\")\n",
    "for ag in exemplo_pai2:\n",
    "    print(ag)\n",
    "print(f\"\\nPonto de corte: {ponto_corte}\")\n",
    "print(\"\\nFilho gerado:\")\n",
    "for ag in filho:\n",
    "    print(ag)"
   ]
  },
  {
   "cell_type": "markdown",
   "id": "aa6abe3b",
   "metadata": {},
   "source": [
    "### Restrições de unicidade no crossover\n",
    "\n",
    "No contexto do agendamento, cada cliente deve ter exatamente um agendamento na agenda (indivíduo). No crossover, é importante garantir que o filho não tenha dois agendamentos para o mesmo cliente.\n",
    "\n",
    "Como garantir isso?\n",
    "- O crossover deve montar o filho pegando, para cada cliente, o agendamento do pai1 ou do pai2, mas nunca duplicando clientes.\n",
    "- Uma abordagem é, para cada posição (cliente), sortear de qual pai herdar aquele agendamento.\n",
    "\n",
    "Vamos mostrar um exemplo de crossover corrigido para garantir unicidade."
   ]
  },
  {
   "cell_type": "code",
   "execution_count": 13,
   "id": "6d3f5df2",
   "metadata": {},
   "outputs": [
    {
     "ename": "NameError",
     "evalue": "name 'exemplo_pai1' is not defined",
     "output_type": "error",
     "traceback": [
      "\u001b[1;31m---------------------------------------------------------------------------\u001b[0m",
      "\u001b[1;31mNameError\u001b[0m                                 Traceback (most recent call last)",
      "Cell \u001b[1;32mIn[13], line 15\u001b[0m\n\u001b[0;32m     12\u001b[0m     \u001b[38;5;28;01mreturn\u001b[39;00m filho\n\u001b[0;32m     14\u001b[0m \u001b[38;5;66;03m# Exemplo prático\u001b[39;00m\n\u001b[1;32m---> 15\u001b[0m filho_unico \u001b[38;5;241m=\u001b[39m crossover_unico(\u001b[43mexemplo_pai1\u001b[49m, exemplo_pai2)\n\u001b[0;32m     16\u001b[0m \u001b[38;5;28mprint\u001b[39m(\u001b[38;5;124m\"\u001b[39m\u001b[38;5;124mFilho gerado (unicidade garantida):\u001b[39m\u001b[38;5;124m\"\u001b[39m)\n\u001b[0;32m     17\u001b[0m \u001b[38;5;28;01mfor\u001b[39;00m ag \u001b[38;5;129;01min\u001b[39;00m filho_unico:\n",
      "\u001b[1;31mNameError\u001b[0m: name 'exemplo_pai1' is not defined"
     ]
    }
   ],
   "source": [
    "# Crossover corrigido: cada cliente aparece só uma vez no filho\n",
    "import random\n",
    "\n",
    "def crossover_unico(pai1, pai2):\n",
    "    filho = []\n",
    "    for ag1, ag2 in zip(pai1, pai2):\n",
    "        # Para cada cliente (posição), sorteia de qual pai herdar\n",
    "        if random.random() < 0.5:\n",
    "            filho.append(ag1)\n",
    "        else:\n",
    "            filho.append(ag2)\n",
    "    return filho\n",
    "\n",
    "# Exemplo prático\n",
    "filho_unico = crossover_unico(exemplo_pai1, exemplo_pai2)\n",
    "print(\"Filho gerado (unicidade garantida):\")\n",
    "for ag in filho_unico:\n",
    "    print(ag)"
   ]
  },
  {
   "cell_type": "code",
   "execution_count": null,
   "id": "36eebb5a",
   "metadata": {},
   "outputs": [],
   "source": []
  },
  {
   "cell_type": "code",
   "execution_count": null,
   "id": "0d7d2eb1",
   "metadata": {},
   "outputs": [],
   "source": [
    "# Crossover robusto: garante unicidade por cliente, mesmo com listas em ordens diferentes\n",
    "def crossover_unico_por_cliente(pai1, pai2):\n",
    "    filho = []\n",
    "    for ag1 in pai1:\n",
    "        cliente_id = ag1['cliente']\n",
    "        # Busca o agendamento do mesmo cliente no pai2\n",
    "        ag2 = next((a for a in pai2 if a['cliente'] == cliente_id), ag1)\n",
    "        # Sorteia de qual pai herdar\n",
    "        filho.append(ag1 if random.random() < 0.5 else ag2)\n",
    "    return filho\n",
    "\n",
    "# Exemplo prático (redefinindo os pais para garantir execução)\n",
    "exemplo_pai1 = [\n",
    "    {\"profissional\": 1, \"servico\": 1, \"cliente\": 1, \"horario\": \"09:00\"},\n",
    "    {\"profissional\": 2, \"servico\": 2, \"cliente\": 2, \"horario\": \"10:00\"},\n",
    "    {\"profissional\": 1, \"servico\": 2, \"cliente\": 3, \"horario\": \"11:00\"},\n",
    "    {\"profissional\": 3, \"servico\": 3, \"cliente\": 4, \"horario\": \"14:00\"}\n",
    "]\n",
    "exemplo_pai2 = [\n",
    "    {\"profissional\": 2, \"servico\": 2, \"cliente\": 1, \"horario\": \"09:00\"},\n",
    "    {\"profissional\": 1, \"servico\": 1, \"cliente\": 2, \"horario\": \"10:00\"},\n",
    "    {\"profissional\": 3, \"servico\": 3, \"cliente\": 3, \"horario\": \"11:00\"},\n",
    "    {\"profissional\": 2, \"servico\": 2, \"cliente\": 4, \"horario\": \"14:00\"}\n",
    "]\n",
    "\n",
    "filho_unico = crossover_unico_por_cliente(exemplo_pai1, exemplo_pai2)\n",
    "print(\"Filho gerado (unicidade garantida, robusto):\")\n",
    "for ag in filho_unico:\n",
    "    print(ag)"
   ]
  }
 ],
 "metadata": {
  "kernelspec": {
   "display_name": "Python 3",
   "language": "python",
   "name": "python3"
  },
  "language_info": {
   "codemirror_mode": {
    "name": "ipython",
    "version": 3
   },
   "file_extension": ".py",
   "mimetype": "text/x-python",
   "name": "python",
   "nbconvert_exporter": "python",
   "pygments_lexer": "ipython3",
   "version": "3.13.2"
  }
 },
 "nbformat": 4,
 "nbformat_minor": 5
}

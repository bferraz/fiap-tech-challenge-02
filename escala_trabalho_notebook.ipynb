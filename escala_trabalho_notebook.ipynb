{
 "cells": [
  {
   "cell_type": "markdown",
   "id": "d01072e1",
   "metadata": {},
   "source": [
    "### Importação das Bibliotecas"
   ]
  },
  {
   "cell_type": "code",
   "execution_count": 1,
   "id": "abfa431c",
   "metadata": {},
   "outputs": [],
   "source": [
    "# Importação das bibliotecas\n",
    "import random\n",
    "import numpy as np\n",
    "import matplotlib.pyplot as plt"
   ]
  },
  {
   "cell_type": "markdown",
   "id": "362637fa",
   "metadata": {},
   "source": [
    "### Modelagem de Dados"
   ]
  },
  {
   "cell_type": "code",
   "execution_count": 2,
   "id": "5bc4753e",
   "metadata": {},
   "outputs": [],
   "source": [
    "# Funcionários\n",
    "funcionarios = [\n",
    "    {\"id\": 1, \"nome\": \"Ana\", \"preferencias_folga\": [\"domingo\"]},\n",
    "    {\"id\": 2, \"nome\": \"Bruno\", \"preferencias_folga\": [\"sábado\"]},\n",
    "    {\"id\": 3, \"nome\": \"Carla\", \"preferencias_folga\": [\"segunda\"]},\n",
    "    {\"id\": 4, \"nome\": \"Diego\", \"preferencias_folga\": [\"terça\"]},\n",
    "    {\"id\": 5, \"nome\": \"Elisa\", \"preferencias_folga\": [\"quarta\"]},\n",
    "    {\"id\": 6, \"nome\": \"Felipe\", \"preferencias_folga\": [\"sexta\"]},\n",
    "]\n",
    "\n",
    "# Dias e turnos\n",
    "semana = [\"segunda\", \"terça\", \"quarta\", \"quinta\", \"sexta\", \"sábado\", \"domingo\"]\n",
    "turnos = [\"manha\", \"tarde\", \"noite\"]"
   ]
  },
  {
   "cell_type": "markdown",
   "id": "450a79c3",
   "metadata": {},
   "source": [
    "### Restrições"
   ]
  },
  {
   "cell_type": "code",
   "execution_count": 3,
   "id": "a88a29b6",
   "metadata": {},
   "outputs": [],
   "source": [
    "CARGA_MAX_SEMANAL = 6  # máximo de turnos por semana por funcionário\n",
    "FOLGAS_OBRIGATORIAS = 1  # mínimo de folgas por semana\n",
    "COBERTURA_MINIMA = 2  # mínimo de funcionários por turno\n",
    "\n",
    "def checar_restricoes(escala, funcionarios, semana, turnos):\n",
    "    violacoes = []\n",
    "    # 1. Carga horária máxima e folgas obrigatórias\n",
    "    for f in funcionarios:\n",
    "        total_turnos = sum(escala[f[\"id\"]][dia][turno] for dia in semana for turno in turnos)\n",
    "        folgas = sum(all(escala[f[\"id\"]][dia][t] == 0 for t in turnos) for dia in semana)\n",
    "        if total_turnos > CARGA_MAX_SEMANAL:\n",
    "            violacoes.append(f\"{f['nome']} excedeu carga máxima semanal.\")\n",
    "        if folgas < FOLGAS_OBRIGATORIAS:\n",
    "            violacoes.append(f\"{f['nome']} não tem folgas suficientes.\")\n",
    "    # 2. Cobertura mínima por turno\n",
    "    for dia in semana:\n",
    "        for turno in turnos:\n",
    "            trabalhando = sum(escala[f[\"id\"]][dia][turno] for f in funcionarios)\n",
    "            if trabalhando < COBERTURA_MINIMA:\n",
    "                violacoes.append(f\"Cobertura insuficiente em {dia} {turno}.\")\n",
    "    return violacoes"
   ]
  },
  {
   "cell_type": "markdown",
   "id": "5e089f82",
   "metadata": {},
   "source": [
    "### Implementação do Algoritimo Genético"
   ]
  },
  {
   "cell_type": "code",
   "execution_count": 4,
   "id": "d3a2b703",
   "metadata": {},
   "outputs": [
    {
     "name": "stdout",
     "output_type": "stream",
     "text": [
      "Número de violações encontradas: 3\n",
      " - Carla excedeu carga máxima semanal.\n",
      " - Elisa excedeu carga máxima semanal.\n",
      " - Felipe excedeu carga máxima semanal.\n"
     ]
    },
    {
     "data": {
      "image/png": "[encoded data removed]",
      "text/plain": [
       "<Figure size 640x480 with 1 Axes>"
      ]
     },
     "metadata": {},
     "output_type": "display_data"
    }
   ],
   "source": [
    "# Parâmetros do algoritmo genético\n",
    "USAR_ELITISMO = False  # Se True, mantém o melhor indivíduo de cada geração\n",
    "POP_SIZE = 20\n",
    "N_GERACOES = 80\n",
    "TAXA_MUTACAO = 0.2\n",
    "\n",
    "# Geração de individuo aleatório (escala de trabalho)\n",
    "def gerar_individuo(funcionarios, semana, turnos):\n",
    "    escala = {f[\"id\"]: {dia: {turno: 0 for turno in turnos} for dia in semana} for f in funcionarios}\n",
    "    for f in funcionarios:\n",
    "        dias_trabalhados = random.sample(semana, CARGA_MAX_SEMANAL)\n",
    "        for dia in dias_trabalhados:\n",
    "            turno = random.choice(turnos)\n",
    "            escala[f[\"id\"]][dia][turno] = 1\n",
    "    return escala\n",
    "\n",
    "# Avaliação do indivíduo (número de violações)\n",
    "def avaliar_individuo(individuo, funcionarios, semana, turnos):\n",
    "    violacoes = checar_restricoes(individuo, funcionarios, semana, turnos)\n",
    "    return len(violacoes)\n",
    "\n",
    "# Seleção de pais (torneio)\n",
    "def selecionar_pais(populacao, funcionarios, semana, turnos):\n",
    "    pais = []\n",
    "    for _ in range(2):\n",
    "        torneio = random.sample(populacao, 3)\n",
    "        melhor = min(torneio, key=lambda ind: avaliar_individuo(ind, funcionarios, semana, turnos))\n",
    "        pais.append(melhor)\n",
    "    return pais\n",
    "\n",
    "# Cruzamento de pais - Versão refatorada\n",
    "def cruzar_pais(pai1, pai2):\n",
    "    \"\"\"\n",
    "    Gera um filho combinando características dos dois pais.\n",
    "    Cada posição da escala é herdada aleatoriamente de um dos pais.\n",
    "    \"\"\"\n",
    "    filho = {}\n",
    "    \n",
    "    for funcionario_id in pai1.keys():\n",
    "        filho[funcionario_id] = {}\n",
    "        \n",
    "        for dia in pai1[funcionario_id].keys():\n",
    "            filho[funcionario_id][dia] = {}\n",
    "            \n",
    "            for turno in pai1[funcionario_id][dia].keys():\n",
    "                # Escolha aleatória entre os pais\n",
    "                pai_escolhido = pai1 if random.random() < 0.5 else pai2\n",
    "                filho[funcionario_id][dia][turno] = pai_escolhido[funcionario_id][dia][turno]\n",
    "    \n",
    "    return filho\n",
    "\n",
    "# Mutação do indivíduo\n",
    "def mutar_individuo(individuo, funcionarios, semana, turnos):\n",
    "    for f in funcionarios:\n",
    "        if random.random() < TAXA_MUTACAO:\n",
    "            dia = random.choice(semana)\n",
    "            turno = random.choice(turnos)\n",
    "            if individuo[f[\"id\"]][dia][turno] == 1:\n",
    "                individuo[f[\"id\"]][dia][turno] = 0  # Remove o turno\n",
    "            else:\n",
    "                individuo[f[\"id\"]][dia][turno] = 1  # Adiciona o turno\n",
    "    return individuo\n",
    "\n",
    "# Inicialização da população\n",
    "populacao = [gerar_individuo(funcionarios, semana, turnos) for _ in range(POP_SIZE)]\n",
    "\n",
    "# Evolução da população\n",
    "melhores_geracoes = []\n",
    "for geracao in range(N_GERACOES):\n",
    "    nova_populacao = []\n",
    "    \n",
    "    # Avaliar e ordenar a população\n",
    "    populacao_ordenada = sorted(populacao, key=lambda ind: avaliar_individuo(ind, funcionarios, semana, turnos), reverse=False)\n",
    "    \n",
    "    # Manter o melhor indivíduo se elitismo for usado\n",
    "    if USAR_ELITISMO:\n",
    "        nova_populacao.append(populacao_ordenada[0])\n",
    "    \n",
    "    # Seleção e cruzamento\n",
    "    while len(nova_populacao) < POP_SIZE:\n",
    "        pai1, pai2 = selecionar_pais(populacao_ordenada, funcionarios, semana, turnos)             \n",
    "        filho = cruzar_pais(pai1, pai2)        \n",
    "        filho = mutar_individuo(filho, funcionarios, semana, turnos)\n",
    "        nova_populacao.append(filho)\n",
    "    \n",
    "    populacao = nova_populacao\n",
    "    melhores_geracoes.append(populacao_ordenada[0])\n",
    "\n",
    "# Avaliação da melhor escala encontrada\n",
    "melhor_individuo = min(melhores_geracoes, key=lambda ind: avaliar_individuo(ind, funcionarios, semana, turnos))\n",
    "# print(\"Melhor escala encontrada:\")\n",
    "# for f in funcionarios:\n",
    "#     print(f\"{f['nome']}: \", end=\"\")\n",
    "#     for dia in semana:\n",
    "#         for turno in turnos:\n",
    "#             if melhor_individuo[f[\"id\"]][dia][turno] == 1:\n",
    "#                 print(f\"{dia} {turno}, \", end=\"\")\n",
    "#     print()\n",
    "\n",
    "# Verificação das restrições na melhor escala\n",
    "violacoes = checar_restricoes(melhor_individuo, funcionarios, semana, turnos)\n",
    "if violacoes:\n",
    "    print(f\"Número de violações encontradas: {len(violacoes)}\")\n",
    "    for v in violacoes:\n",
    "        print(f\" - {v}\")\n",
    "else:\n",
    "    print(\"✅ Nenhuma violação encontrada! Escala válida.\")\n",
    "\n",
    "# Plotando a evolução da melhor solução\n",
    "melhores_aval = [avaliar_individuo(ind, funcionarios, semana, turnos) for ind in melhores_geracoes]\n",
    "plt.plot(melhores_aval)\n",
    "plt.title(\"Evolução da Melhor Solução\")\n",
    "plt.xlabel(\"Geração\")\n",
    "plt.ylabel(\"Número de Violações\")\n",
    "plt.grid()\n",
    "plt.show()"
   ]
  },
  {
   "cell_type": "code",
   "execution_count": null,
   "id": "74c0ee8c",
   "metadata": {},
   "outputs": [],
   "source": []
  }
 ],
 "metadata": {
  "kernelspec": {
   "display_name": "Python 3",
   "language": "python",
   "name": "python3"
  },
  "language_info": {
   "codemirror_mode": {
    "name": "ipython",
    "version": 3
   },
   "file_extension": ".py",
   "mimetype": "text/x-python",
   "name": "python",
   "nbconvert_exporter": "python",
   "pygments_lexer": "ipython3",
   "version": "3.13.2"
  }
 },
 "nbformat": 4,
 "nbformat_minor": 5
}

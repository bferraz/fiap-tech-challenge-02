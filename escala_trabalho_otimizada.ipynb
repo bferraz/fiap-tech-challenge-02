{
 "cells": [
  {
   "cell_type": "markdown",
   "id": "54331ec8",
   "metadata": {},
   "source": [
    "# Escala de Trabalho Otimizada com Algoritmo Genético\n",
    "\n",
    "Este notebook demonstra como criar uma API ou solução para geração de escalas de trabalho otimizadas, considerando múltiplas restrições e preferências, utilizando algoritmos genéticos.\n",
    "\n",
    "**Objetivos:**\n",
    "- Montar escalas de trabalho semanais para equipes (ex: hospital, loja, fábrica).\n",
    "- Considerar restrições como carga horária máxima, folgas obrigatórias, cobertura mínima por turno, preferências e justiça na distribuição.\n",
    "- Visualizar a evolução da qualidade da escala ao longo das gerações.\n",
    "\n",
    "**Sumário:**\n",
    "1. Importação das Bibliotecas Necessárias\n",
    "2. Modelagem dos Dados para Escala de Trabalho\n",
    "3. Definição de Restrições e Regras de Negócio\n",
    "4. Função de Fitness para Avaliação das Escalas\n",
    "5. Geração de Exemplos de Escalas\n",
    "6. Avaliação dos Exemplos com a Função de Fitness\n",
    "7. Implementação do Algoritmo Genético para Otimização da Escala\n",
    "8. Visualização da Evolução do Fitness\n",
    "9. Exemplo Prático de Crossover e Mutação com Restrições"
   ]
  },
  {
   "cell_type": "markdown",
   "id": "a91d7a50",
   "metadata": {},
   "source": [
    "## 1. Importação das Bibliotecas Necessárias\n",
    "\n",
    "Vamos importar as bibliotecas essenciais para manipulação de dados, geração aleatória e visualização."
   ]
  },
  {
   "cell_type": "code",
   "execution_count": 1,
   "id": "839c01b6",
   "metadata": {},
   "outputs": [],
   "source": [
    "# Importação das bibliotecas\n",
    "import random\n",
    "import numpy as np\n",
    "import matplotlib.pyplot as plt"
   ]
  },
  {
   "cell_type": "markdown",
   "id": "ed25361c",
   "metadata": {},
   "source": [
    "## 2. Modelagem dos Dados para Escala de Trabalho\n",
    "\n",
    "Vamos definir os dados básicos: funcionários, turnos, dias da semana, preferências e estrutura da escala."
   ]
  },
  {
   "cell_type": "code",
   "execution_count": 2,
   "id": "109198d2",
   "metadata": {},
   "outputs": [],
   "source": [
    "# Funcionários\n",
    "funcionarios = [\n",
    "    {\"id\": 1, \"nome\": \"Ana\", \"preferencias_folga\": [\"domingo\"]},\n",
    "    {\"id\": 2, \"nome\": \"Bruno\", \"preferencias_folga\": [\"sábado\"]},\n",
    "    {\"id\": 3, \"nome\": \"Carla\", \"preferencias_folga\": [\"segunda\"]},\n",
    "    {\"id\": 4, \"nome\": \"Diego\", \"preferencias_folga\": [\"terça\"]},\n",
    "    {\"id\": 5, \"nome\": \"Elisa\", \"preferencias_folga\": [\"quarta\"]},\n",
    "]\n",
    "\n",
    "# Dias e turnos\n",
    "semana = [\"segunda\", \"terça\", \"quarta\", \"quinta\", \"sexta\", \"sábado\", \"domingo\"]\n",
    "turnos = [\"manha\", \"tarde\", \"noite\"]\n",
    "\n",
    "# Exemplo de estrutura de escala: escala[func_id][dia][turno] = 1 (trabalha) ou 0 (folga)\n",
    "# Inicialização vazia para exemplo\n",
    "escala_exemplo = {\n",
    "    f[\"id\"]: {dia: {turno: 0 for turno in turnos} for dia in semana} for f in funcionarios\n",
    "}\n",
    "\n",
    "# Exemplo: Ana trabalha segunda de manhã e tarde\n",
    "escala_exemplo[1][\"segunda\"][\"manha\"] = 1\n",
    "escala_exemplo[1][\"segunda\"][\"tarde\"] = 1\n",
    "# Bruno trabalha terça à noite\n",
    "escala_exemplo[2][\"terça\"][\"noite\"] = 1"
   ]
  },
  {
   "cell_type": "markdown",
   "id": "9c8b54cf",
   "metadata": {},
   "source": [
    "## 3. Definição de Restrições e Regras de Negócio\n",
    "\n",
    "Vamos definir as principais restrições para a escala de trabalho:"
   ]
  },
  {
   "cell_type": "code",
   "execution_count": 3,
   "id": "c215ddc2",
   "metadata": {},
   "outputs": [],
   "source": [
    "# Restrições\n",
    "CARGA_MAX_SEMANAL = 6  # máximo de turnos por semana por funcionário\n",
    "FOLGAS_OBRIGATORIAS = 1  # mínimo de folgas por semana\n",
    "COBERTURA_MINIMA = 2  # mínimo de funcionários por turno\n",
    "\n",
    "# Função para checar restrições em uma escala\n",
    "def checar_restricoes(escala, funcionarios, semana, turnos):\n",
    "    violacoes = []\n",
    "    # 1. Carga horária máxima e folgas obrigatórias\n",
    "    for f in funcionarios:\n",
    "        total_turnos = sum(escala[f[\"id\"]][dia][turno] for dia in semana for turno in turnos)\n",
    "        folgas = sum(all(escala[f[\"id\"]][dia][t] == 0 for t in turnos) for dia in semana)\n",
    "        if total_turnos > CARGA_MAX_SEMANAL:\n",
    "            violacoes.append(f\"{f['nome']} excedeu carga máxima semanal.\")\n",
    "        if folgas < FOLGAS_OBRIGATORIAS:\n",
    "            violacoes.append(f\"{f['nome']} não tem folgas suficientes.\")\n",
    "    # 2. Cobertura mínima por turno\n",
    "    for dia in semana:\n",
    "        for turno in turnos:\n",
    "            trabalhando = sum(escala[f[\"id\"]][dia][turno] for f in funcionarios)\n",
    "            if trabalhando < COBERTURA_MINIMA:\n",
    "                violacoes.append(f\"Cobertura insuficiente em {dia} {turno}.\")\n",
    "    return violacoes"
   ]
  },
  {
   "cell_type": "markdown",
   "id": "0362898c",
   "metadata": {},
   "source": [
    "## 4. Função de Fitness para Avaliação das Escalas\n",
    "\n",
    "A função de fitness avalia a qualidade de uma escala, penalizando violações de restrições e premiando preferências atendidas."
   ]
  },
  {
   "cell_type": "code",
   "execution_count": 4,
   "id": "8992bf60",
   "metadata": {},
   "outputs": [],
   "source": [
    "# Função de fitness\n",
    "\n",
    "def calcular_fitness(escala, funcionarios, semana, turnos):\n",
    "    score = 0\n",
    "    violacoes = checar_restricoes(escala, funcionarios, semana, turnos)\n",
    "    score -= 10 * len(violacoes)  # penalidade forte para cada violação\n",
    "    # Preferências de folga atendidas\n",
    "    for f in funcionarios:\n",
    "        for dia_pref in f[\"preferencias_folga\"]:\n",
    "            if all(escala[f[\"id\"]][dia_pref][t] == 0 for t in turnos):\n",
    "                score += 2  # bônus por folga atendida\n",
    "    return score, violacoes"
   ]
  },
  {
   "cell_type": "code",
   "execution_count": null,
   "id": "4ff01323",
   "metadata": {},
   "outputs": [],
   "source": []
  },
  {
   "cell_type": "markdown",
   "id": "655cc1ab",
   "metadata": {},
   "source": [
    "## 5. Geração de Exemplos de Escalas\n",
    "\n",
    "Vamos criar exemplos de escalas (válidas e inválidas) para testar a função de fitness e ilustrar diferentes cenários."
   ]
  },
  {
   "cell_type": "code",
   "execution_count": 5,
   "id": "4febd0fb",
   "metadata": {},
   "outputs": [],
   "source": [
    "# Exemplo 1: Escala válida (cobertura mínima, folgas, carga horária)\n",
    "escala_valida = {\n",
    "    f[\"id\"]: {dia: {turno: 0 for turno in turnos} for dia in semana} for f in funcionarios\n",
    "}\n",
    "# Distribuir turnos de forma justa\n",
    "for i, f in enumerate(funcionarios):\n",
    "    for j, dia in enumerate(semana):\n",
    "        turno = turnos[(i + j) % len(turnos)]\n",
    "        escala_valida[f[\"id\"]][dia][turno] = 1\n",
    "\n",
    "# Exemplo 2: Escala com violações (sobrecarga e falta de cobertura)\n",
    "escala_invalida = {\n",
    "    f[\"id\"]: {dia: {turno: 0 for turno in turnos} for dia in semana} for f in funcionarios\n",
    "}\n",
    "# Um funcionário sobrecarregado, outros com folgas demais\n",
    "for dia in semana:\n",
    "    escala_invalida[1][dia][\"manha\"] = 1\n",
    "    escala_invalida[1][dia][\"tarde\"] = 1  # Ana faz dois turnos por dia\n",
    "# Cobertura insuficiente nos outros turnos"
   ]
  },
  {
   "cell_type": "markdown",
   "id": "d53d1d09",
   "metadata": {},
   "source": [
    "## 6. Avaliação dos Exemplos com a Função de Fitness\n",
    "\n",
    "Vamos avaliar as escalas geradas, mostrando a pontuação de fitness e as violações de restrições."
   ]
  },
  {
   "cell_type": "code",
   "execution_count": 6,
   "id": "3ff52d4e",
   "metadata": {},
   "outputs": [
    {
     "name": "stdout",
     "output_type": "stream",
     "text": [
      "\n",
      "Escala Válida: Score = -170\n",
      "Violações:\n",
      " - Ana excedeu carga máxima semanal.\n",
      " - Ana não tem folgas suficientes.\n",
      " - Bruno excedeu carga máxima semanal.\n",
      " - Bruno não tem folgas suficientes.\n",
      " - Carla excedeu carga máxima semanal.\n",
      " - Carla não tem folgas suficientes.\n",
      " - Diego excedeu carga máxima semanal.\n",
      " - Diego não tem folgas suficientes.\n",
      " - Elisa excedeu carga máxima semanal.\n",
      " - Elisa não tem folgas suficientes.\n",
      " - Cobertura insuficiente em segunda noite.\n",
      " - Cobertura insuficiente em terça manha.\n",
      " - Cobertura insuficiente em quarta tarde.\n",
      " - Cobertura insuficiente em quinta noite.\n",
      " - Cobertura insuficiente em sexta manha.\n",
      " - Cobertura insuficiente em sábado tarde.\n",
      " - Cobertura insuficiente em domingo noite.\n",
      "\n",
      "Escala Inválida: Score = -222\n",
      "Violações:\n",
      " - Ana excedeu carga máxima semanal.\n",
      " - Ana não tem folgas suficientes.\n",
      " - Cobertura insuficiente em segunda manha.\n",
      " - Cobertura insuficiente em segunda tarde.\n",
      " - Cobertura insuficiente em segunda noite.\n",
      " - Cobertura insuficiente em terça manha.\n",
      " - Cobertura insuficiente em terça tarde.\n",
      " - Cobertura insuficiente em terça noite.\n",
      " - Cobertura insuficiente em quarta manha.\n",
      " - Cobertura insuficiente em quarta tarde.\n",
      " - Cobertura insuficiente em quarta noite.\n",
      " - Cobertura insuficiente em quinta manha.\n",
      " - Cobertura insuficiente em quinta tarde.\n",
      " - Cobertura insuficiente em quinta noite.\n",
      " - Cobertura insuficiente em sexta manha.\n",
      " - Cobertura insuficiente em sexta tarde.\n",
      " - Cobertura insuficiente em sexta noite.\n",
      " - Cobertura insuficiente em sábado manha.\n",
      " - Cobertura insuficiente em sábado tarde.\n",
      " - Cobertura insuficiente em sábado noite.\n",
      " - Cobertura insuficiente em domingo manha.\n",
      " - Cobertura insuficiente em domingo tarde.\n",
      " - Cobertura insuficiente em domingo noite.\n"
     ]
    }
   ],
   "source": [
    "# Avaliação das escalas de exemplo\n",
    "for nome, escala in [(\"Válida\", escala_valida), (\"Inválida\", escala_invalida)]:\n",
    "    score, violacoes = calcular_fitness(escala, funcionarios, semana, turnos)\n",
    "    print(f\"\\nEscala {nome}: Score = {score}\")\n",
    "    if violacoes:\n",
    "        print(\"Violações:\")\n",
    "        for v in violacoes:\n",
    "            print(\" -\", v)\n",
    "    else:\n",
    "        print(\"Sem violações!\")"
   ]
  },
  {
   "cell_type": "markdown",
   "id": "e141518f",
   "metadata": {},
   "source": [
    "## 7. Implementação do Algoritmo Genético para Otimização da Escala\n",
    "\n",
    "Agora vamos implementar um algoritmo genético simples para buscar escalas que maximizem o fitness, respeitando as restrições."
   ]
  },
  {
   "cell_type": "code",
   "execution_count": 38,
   "id": "469b52c2",
   "metadata": {},
   "outputs": [
    {
     "name": "stdout",
     "output_type": "stream",
     "text": [
      "\n",
      "Melhor escala encontrada (fitness): -32\n"
     ]
    }
   ],
   "source": [
    "# Parâmetros do algoritmo genético\n",
    "USAR_ELITISMO = False  # Se True, mantém o melhor indivíduo de cada geração\n",
    "POP_SIZE = 20\n",
    "N_GERACOES = 40\n",
    "TAXA_MUTACAO = 0.2\n",
    "\n",
    "# Geração de indivíduo aleatório (escala)\n",
    "def gerar_individuo():\n",
    "    escala = {f[\"id\"]: {dia: {turno: 0 for turno in turnos} for dia in semana} for f in funcionarios}\n",
    "    for f in funcionarios:\n",
    "        turnos_disponiveis = [(dia, turno) for dia in semana for turno in turnos]\n",
    "        random.shuffle(turnos_disponiveis)\n",
    "        # Distribuir até a carga máxima semanal\n",
    "        for (dia, turno) in turnos_disponiveis[:CARGA_MAX_SEMANAL]:\n",
    "            escala[f[\"id\"]][dia][turno] = 1\n",
    "    return escala\n",
    "\n",
    "# Crossover: mistura turnos de dois pais\n",
    "def crossover(pai1, pai2):\n",
    "    filho = {f[\"id\"]: {dia: {turno: 0 for turno in turnos} for dia in semana} for f in funcionarios}\n",
    "    for f in funcionarios:\n",
    "        for dia in semana:\n",
    "            for turno in turnos:\n",
    "                if random.random() < 0.5:\n",
    "                    filho[f[\"id\"]][dia][turno] = pai1[f[\"id\"]][dia][turno]\n",
    "                else:\n",
    "                    filho[f[\"id\"]][dia][turno] = pai2[f[\"id\"]][dia][turno]\n",
    "    return filho\n",
    "\n",
    "# Mutação: troca aleatoriamente alguns turnos\n",
    "def mutacao(escala):\n",
    "    novo = {f[\"id\"]: {dia: escala[f[\"id\"]][dia].copy() for dia in semana} for f in funcionarios}\n",
    "    for f in funcionarios:\n",
    "        if random.random() < TAXA_MUTACAO:\n",
    "            dia1, turno1 = random.choice(semana), random.choice(turnos)\n",
    "            dia2, turno2 = random.choice(semana), random.choice(turnos)\n",
    "            # Troca o valor dos turnos\n",
    "            novo[f[\"id\"]][dia1][turno1], novo[f[\"id\"]][dia2][turno2] = novo[f[\"id\"]][dia2][turno2], novo[f[\"id\"]][dia1][turno1]\n",
    "    return novo\n",
    "\n",
    "# Algoritmo genético principal\n",
    "evolucao_fitness = []\n",
    "populacao = [gerar_individuo() for _ in range(POP_SIZE)]\n",
    "\n",
    "for geracao in range(N_GERACOES):\n",
    "    fitness_pop = [calcular_fitness(ind, funcionarios, semana, turnos)[0] for ind in populacao]\n",
    "    selecionados = [populacao[i] for i in np.argsort(fitness_pop)[-POP_SIZE//2:]]\n",
    "    nova_pop = []\n",
    "    # Elitismo: mantém o melhor indivíduo\n",
    "    if USAR_ELITISMO:\n",
    "        melhor_idx = int(np.argmax(fitness_pop))\n",
    "        nova_pop.append(populacao[melhor_idx])\n",
    "    while len(nova_pop) < POP_SIZE:\n",
    "        pais = random.sample(selecionados, 2)\n",
    "        filho = crossover(pais[0], pais[1])\n",
    "        filho = mutacao(filho)\n",
    "        nova_pop.append(filho)\n",
    "    populacao = nova_pop\n",
    "    melhor_fitness = max(fitness_pop)\n",
    "    evolucao_fitness.append(melhor_fitness)\n",
    "\n",
    "# Melhor escala encontrada\n",
    "fitness_final = [calcular_fitness(ind, funcionarios, semana, turnos)[0] for ind in populacao]\n",
    "melhor_idx = int(np.argmax(fitness_final))\n",
    "melhor_escala = populacao[melhor_idx]\n",
    "print(\"\\nMelhor escala encontrada (fitness):\", fitness_final[melhor_idx])"
   ]
  },
  {
   "cell_type": "markdown",
   "id": "d5fd8d43",
   "metadata": {},
   "source": [
    "## 8. Visualização da Evolução do Fitness\n",
    "\n",
    "Vamos visualizar graficamente a evolução do melhor fitness ao longo das gerações."
   ]
  },
  {
   "cell_type": "code",
   "execution_count": 39,
   "id": "580228bd",
   "metadata": {},
   "outputs": [
    {
     "data": {
      "image/png": "[encoded data removed]",
      "text/plain": [
       "<Figure size 1000x500 with 1 Axes>"
      ]
     },
     "metadata": {},
     "output_type": "display_data"
    }
   ],
   "source": [
    "# Visualização da evolução do fitness\n",
    "generations = list(range(1, N_GERACOES+1))\n",
    "plt.figure(figsize=(10,5))\n",
    "plt.plot(generations, evolucao_fitness, marker='o')\n",
    "plt.title('Evolução do Melhor Fitness por Geração')\n",
    "plt.xlabel('Geração')\n",
    "plt.ylabel('Melhor Fitness')\n",
    "plt.grid(True)\n",
    "plt.show()"
   ]
  },
  {
   "cell_type": "markdown",
   "id": "c3f26fb9",
   "metadata": {},
   "source": [
    "## 9. Exemplo Prático de Crossover e Mutação com Restrições\n",
    "\n",
    "Vamos demonstrar como o crossover e a mutação respeitam restrições como unicidade e carga horária máxima."
   ]
  },
  {
   "cell_type": "code",
   "execution_count": null,
   "id": "8392ec41",
   "metadata": {},
   "outputs": [],
   "source": [
    "# Exemplo prático de crossover e mutação\n",
    "pai1 = gerar_individuo()\n",
    "pai2 = gerar_individuo()\n",
    "print(\"Fitness pai1:\", calcular_fitness(pai1, funcionarios, semana, turnos)[0])\n",
    "print(\"Fitness pai2:\", calcular_fitness(pai2, funcionarios, semana, turnos)[0])\n",
    "\n",
    "filho = crossover(pai1, pai2)\n",
    "filho = mutacao(filho)\n",
    "score_filho, violacoes_filho = calcular_fitness(filho, funcionarios, semana, turnos)\n",
    "print(\"\\nFitness filho após crossover e mutação:\", score_filho)\n",
    "if violacoes_filho:\n",
    "    print(\"Violações no filho:\")\n",
    "    for v in violacoes_filho:\n",
    "        print(\" -\", v)\n",
    "else:\n",
    "    print(\"Sem violações!\")"
   ]
  }
 ],
 "metadata": {
  "kernelspec": {
   "display_name": "Python 3",
   "language": "python",
   "name": "python3"
  },
  "language_info": {
   "codemirror_mode": {
    "name": "ipython",
    "version": 3
   },
   "file_extension": ".py",
   "mimetype": "text/x-python",
   "name": "python",
   "nbconvert_exporter": "python",
   "pygments_lexer": "ipython3",
   "version": "3.13.2"
  }
 },
 "nbformat": 4,
 "nbformat_minor": 5
}
